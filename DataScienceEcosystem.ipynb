{
 "cells": [
  {
   "cell_type": "markdown",
   "id": "4ff496e1",
   "metadata": {},
   "source": [
    "# Data Science Tools and Ecosystem"
   ]
  },
  {
   "cell_type": "markdown",
   "id": "8c4f796d",
   "metadata": {},
   "source": [
    "# Author : \n",
    "## sobhy hassan sobhy"
   ]
  },
  {
   "cell_type": "markdown",
   "id": "215e7304",
   "metadata": {},
   "source": [
    "# In this notebook, Data Science Tools and Ecosystem are summarized."
   ]
  },
  {
   "cell_type": "markdown",
   "id": "a097ced7",
   "metadata": {},
   "source": [
    "# Objectives\n",
    "- Some of the popular languages that Data Scientists use are\n",
    "- Data Science Tools\n",
    "- arithmetic expression\n",
    "- convert minutes to hours "
   ]
  },
  {
   "cell_type": "markdown",
   "id": "4bca97ee",
   "metadata": {},
   "source": [
    "# Some of the popular languages that Data Scientists use are:"
   ]
  },
  {
   "cell_type": "markdown",
   "id": "1c6abf39",
   "metadata": {},
   "source": [
    "## 1. Python\n",
    "## 2. R\n",
    "## 3. SQL\n",
    "## 4. Julia\n",
    "## 5. Scala"
   ]
  },
  {
   "cell_type": "markdown",
   "id": "ccefafa3",
   "metadata": {},
   "source": [
    "# Some of the commonly used libraries used by Data Scientists include:\n",
    "\n",
    "## 1. NumPy\n",
    "## 2. Pandas\n",
    "## 3. Matplotlib\n",
    "## 4. Scikit-learn\n",
    "## 5. TensorFlow\n",
    "## 6. Keras"
   ]
  },
  {
   "cell_type": "markdown",
   "id": "821a6697",
   "metadata": {},
   "source": [
    "# Data Science Tools\n",
    "\n",
    "# | Data Science Tools |\n",
    "# | --- |\n",
    "# | Jupyter Notebook |\n",
    "# | RStudio |\n",
    "# | Visual Studio Code |"
   ]
  },
  {
   "cell_type": "markdown",
   "id": "99320d82",
   "metadata": {},
   "source": [
    "### Below are a few examples of evaluating arithmetic expressions in Python.\n",
    "\n",
    "- Addition: `2 + 3`\n",
    "- Subtraction: `5 - 2`\n",
    "- Multiplication: `3 * 4`\n",
    "- Division: `6 / 2`"
   ]
  },
  {
   "cell_type": "code",
   "execution_count": 1,
   "id": "8c0d33fd",
   "metadata": {},
   "outputs": [
    {
     "name": "stdout",
     "output_type": "stream",
     "text": [
      "17\n"
     ]
    }
   ],
   "source": [
    "# This a simple arithmetic expression to mutiply then add integers\n",
    "print((3*4)+5)"
   ]
  },
  {
   "cell_type": "code",
   "execution_count": 2,
   "id": "af46a7cd",
   "metadata": {},
   "outputs": [
    {
     "name": "stdout",
     "output_type": "stream",
     "text": [
      "3.3333333333333335\n"
     ]
    }
   ],
   "source": [
    "# This will convert 200 minutes to hours by diving by 60\n",
    "print(200 / 60)"
   ]
  },
  {
   "cell_type": "code",
   "execution_count": null,
   "id": "247d3325",
   "metadata": {},
   "outputs": [],
   "source": []
  }
 ],
 "metadata": {
  "kernelspec": {
   "display_name": "Python 3 (ipykernel)",
   "language": "python",
   "name": "python3"
  },
  "language_info": {
   "codemirror_mode": {
    "name": "ipython",
    "version": 3
   },
   "file_extension": ".py",
   "mimetype": "text/x-python",
   "name": "python",
   "nbconvert_exporter": "python",
   "pygments_lexer": "ipython3",
   "version": "3.11.5"
  }
 },
 "nbformat": 4,
 "nbformat_minor": 5
}
